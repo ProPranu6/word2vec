import myword2vec
!pip install wikipedia
from myword2vec import *
vecK = vecW2V("probably-word2vec-usage-1")
_, corpusSen = vecK.makeCorpus(title="phones")
model, inputDict = vecK.makeModelAndInput(30, corpusSen, window=15,negativeSampling=5, allowStopWords=False, describeModel=True)
model = vecK.train(learning_rate=0.009, epochs=30)
summary = vecK.summarizeCorpus(summarizeEvery=1000)
_ = vecK.autoFillList(word1="mos", topN=10, printList=True)
_ = vecK.summarizeCorpus(summarizeEvery=1667)
_ = vecK.textCalc(word1="handphone", op1="-", word2="hand")
